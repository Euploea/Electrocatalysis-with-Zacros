{
 "cells": [
  {
   "cell_type": "markdown",
   "metadata": {},
   "source": [
    "Author: \n",
    "\n",
    "Joel W. Ager (jwager@lbl.gov, [ORCID](https://orcid.org/0000-0001-9334-9751)) [Group website](http://ager.mse.berkeley.edu), [GitHub](https://github.com/joelager)\n",
    "\n",
    "Jinghan Li (mseljh@sjtu.edu.cn, [ORCID](https://orcid.org/0000-0003-3619-5121))"
   ]
  },
  {
   "cell_type": "code",
   "execution_count": 1,
   "metadata": {},
   "outputs": [],
   "source": [
    "import os\n",
    "import glob\n",
    "from pathlib import Path\n",
    "import zacros_wrapper as zw\n",
    "import pandas as pd\n",
    "import numpy as np\n",
    "from units import * \n",
    "import matplotlib.pyplot as plt"
   ]
  },
  {
   "cell_type": "code",
   "execution_count": 2,
   "metadata": {
    "scrolled": false
   },
   "outputs": [
    {
     "name": "stdout",
     "output_type": "stream",
     "text": [
      "C:\\Users\\mselj\\Desktop\\Paper\\Paper-KMC\\Upload-notebooks+simulation-files\\05-Isotope-Multi\n",
      "Starting trajectory 1\n",
      "finished trajectory: True\n",
      "Starting trajectory 2\n"
     ]
    },
    {
     "name": "stderr",
     "output_type": "stream",
     "text": [
      "C:\\ProgramData\\Anaconda3\\lib\\site-packages\\ipykernel_launcher.py:28: RuntimeWarning: invalid value encountered in double_scalars\n",
      "C:\\ProgramData\\Anaconda3\\lib\\site-packages\\ipykernel_launcher.py:29: RuntimeWarning: invalid value encountered in double_scalars\n"
     ]
    },
    {
     "name": "stdout",
     "output_type": "stream",
     "text": [
      "finished trajectory: True\n",
      "Starting trajectory 3\n",
      "finished trajectory: True\n",
      "Starting trajectory 4\n",
      "finished trajectory: True\n",
      "Starting trajectory 5\n",
      "finished trajectory: True\n",
      "Starting trajectory 6\n",
      "finished trajectory: True\n",
      "Starting trajectory 7\n",
      "finished trajectory: True\n",
      "Starting trajectory 8\n",
      "finished trajectory: True\n",
      "Starting trajectory 9\n",
      "finished trajectory: True\n",
      "Starting trajectory 10\n",
      "finished trajectory: True\n"
     ]
    }
   ],
   "source": [
    "######################### Change these for specific cases #############################\n",
    "n_trajectory = 10\n",
    "SitesNum = 40000\n",
    "######################### Change these for specific cases #############################\n",
    "notebook_wd = Path('C:/Users/mselj/Desktop/Paper/Paper-KMC/Upload-notebooks+simulation-files')\n",
    "zacros_relative_file_location = Path('05-Isotope-Multi')\n",
    "zacros_wd = os.path.join(notebook_wd, zacros_relative_file_location)\n",
    "print(zacros_wd)\n",
    "os.chdir(zacros_wd)\n",
    "\n",
    "multi_1 = zw.KMC_Run.kmc_traj(path=zacros_wd)\n",
    "result = np.zeros(shape=(n_trajectory,1))\n",
    "for i in range(n_trajectory):\n",
    "    print('Starting trajectory', i + 1)\n",
    "    os.system('wsl.exe zacros-s.x')\n",
    "    print('finished trajectory:', multi_1.CheckComplete())\n",
    "    SpecOut = zw.IO_data.SpecnumOut()\n",
    "    SpecOut.ReadOut(zacros_wd)\n",
    "    SpecOutN = SpecOut.t.shape[0]\n",
    "    Temp = SpecOut.t.reshape (SpecOutN,1)\n",
    "    temp1 = np.concatenate([Temp, SpecOut.spec], axis = 1) # merge the 2 arrays\n",
    "    df = pd.DataFrame(temp1) # change arrays to Dataframe.\n",
    "    df.rename(columns={0: 'Time', 1: 'CO*', 2: 'EO*', 3: 'OCCO**', 4: 'OECO**', 5: 'OEEO**', 6: 'H*', 7: 'CCH4', 8: 'ECH4', 9: 'EEH4',\\\n",
    "                       10: 'CCH6O', 11: 'ECH6O', 12: 'EEH6O', }, inplace=True)#E represents 13C, C represents 12C, CCH4 for ethylene, CCH6O for ethanol.\n",
    "    df['Ethylene'] = df.apply(lambda x: x['CCH4'] + x['ECH4'] + x['EEH4'], axis=1)# sum of all ethylene produced.\n",
    "    df['Ethanol'] = df.apply(lambda x: x['CCH6O'] + x['ECH6O'] + x['EEH6O'], axis=1)# sum of all ethanol produced.\n",
    "    df['Iso_ethylene'] = df.apply(lambda x: (x['ECH4'] + 2*x['EEH4'])/(2*x['Ethylene']), axis=1)# 13C ratio in produced ethylene.\n",
    "    df['Iso_ethanol'] = df.apply(lambda x: (x['ECH6O'] + 2*x['EEH6O'])/(2*x['Ethanol']), axis=1)# 13C ratio in produced ethanol.\n",
    "    df['c_CO*'] = df.apply(lambda x: x['CO*']/SitesNum, axis=1)\n",
    "    df['c_EO*'] = df.apply(lambda x: x['EO*']/SitesNum, axis=1)\n",
    "    df['c_CO*+EO*'] = df.apply(lambda x: (x['CO*']+x['EO*'])/SitesNum, axis=1)\n",
    "    df['diff'] = df.apply(lambda x: x['Iso_ethylene'] - x['Iso_ethanol'], axis=1)\n",
    "    df.to_csv(os.path.join(zacros_wd,'coverage {}.csv'.format(i)))\n",
    "    result[i] = df.iloc[-1,-1] # The difference in 13C fraction in the products at the end of each run. (Only 0.5 s here for demonstration.)\n",
    "df_diff = pd.DataFrame(result)\n",
    "df_diff.to_csv(os.path.join(zacros_wd,'diff.csv'))# Save to file."
   ]
  }
 ],
 "metadata": {
  "kernelspec": {
   "display_name": "Python 3",
   "language": "python",
   "name": "python3"
  },
  "language_info": {
   "codemirror_mode": {
    "name": "ipython",
    "version": 3
   },
   "file_extension": ".py",
   "mimetype": "text/x-python",
   "name": "python",
   "nbconvert_exporter": "python",
   "pygments_lexer": "ipython3",
   "version": "3.7.6"
  }
 },
 "nbformat": 4,
 "nbformat_minor": 4
}
